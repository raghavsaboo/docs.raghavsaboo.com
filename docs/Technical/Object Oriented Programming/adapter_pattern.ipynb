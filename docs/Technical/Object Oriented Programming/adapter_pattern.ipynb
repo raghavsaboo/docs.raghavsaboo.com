{
 "cells": [
  {
   "cell_type": "markdown",
   "metadata": {},
   "source": [
    "# Adapter Pattern\n",
    "\n",
    "The adapter design pattern applies to any context where we effectively want to modify an existing class so that its methods match those a related, but different, class or interface. \n",
    "\n",
    "One general way to apply the adapter pattern is to define a new class in such a way that it contains an instance of the existing class as a hidden field, and then to implement each method of the new class using methods of this hidden instance variable. \n",
    "\n",
    "By applying the adapter pattern in this way, we have created a new class that performs some of the same functions as an existing class, but repacked in a more convenient way. \n",
    "\n",
    "An example is to implement an Array based Stack using a Python `list` - with a simple example shown below."
   ]
  },
  {
   "cell_type": "code",
   "execution_count": null,
   "metadata": {},
   "outputs": [],
   "source": [
    "class Empty(Exception):\n",
    "    \"\"\"Error attempting to access an element from an empty container.\"\"\"\n",
    "    pass\n",
    "\n",
    "class ArrayStack:\n",
    "    \"\"\"LIFO stack implementation using Python list as underlying storage\"\"\"\n",
    "\n",
    "    def __init__(self):\n",
    "        self._data = []\n",
    "\n",
    "    def __len__(self):\n",
    "        return len(self._data)\n",
    "\n",
    "    def is_empty(self):\n",
    "        return len(self._data) == 0\n",
    "\n",
    "    def push(self, e):\n",
    "        self._data.append(e)\n",
    "\n",
    "    def top(self):\n",
    "        if self.is_empty():\n",
    "            raise Empty('Stack is Empty')\n",
    "        return self._data[-1]\n",
    "\n",
    "    def pop(self):\n",
    "        if self.is_empty():\n",
    "            raise Empty('Stack is Empty')\n",
    "        return self._data.pop()\n"
   ]
  },
  {
   "cell_type": "markdown",
   "metadata": {},
   "source": []
  }
 ],
 "metadata": {
  "language_info": {
   "name": "python"
  }
 },
 "nbformat": 4,
 "nbformat_minor": 2
}

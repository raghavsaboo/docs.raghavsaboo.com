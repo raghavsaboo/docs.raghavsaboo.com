{
 "cells": [
  {
   "cell_type": "markdown",
   "metadata": {},
   "source": [
    "# Searching Algorithms\n",
    "\n",
    "## Binary Search\n",
    "\n",
    "A classic recursive algorithm, **binary search**, that is used to locate a target value within a **sorted sequence** of n elements.\n",
    "\n",
    "Time complexity: `O(log n)`\n",
    "\n",
    "When the sequence is **unsorted** then we can use **sequential search** algorithms that run in O(n) time (i.e. linear time)."
   ]
  },
  {
   "cell_type": "code",
   "execution_count": 1,
   "metadata": {},
   "outputs": [],
   "source": [
    "def binary_search(data, target, left, right):\n",
    "    \"\"\"\n",
    "    Return True if target is found in indicated portion of a Python list.\n",
    "    \n",
    "    The search only considers the portion from data[left] to data[right] inclusive.\n",
    "    \"\"\"\n",
    "\n",
    "    if left > right:\n",
    "        return False, None # interval is empty, no match\n",
    "    else:\n",
    "        mid = (left + right) // 2\n",
    "        if target == data[mid]: # found a match\n",
    "            return True, mid\n",
    "        elif target < data[mid]:\n",
    "            # recur on the portion left of the middle\n",
    "            return binary_search(data, target, left, mid - 1)\n",
    "        else:\n",
    "            # recur on the portion right of the middle\n",
    "            return binary_search(data, target, mid + 1, right)"
   ]
  }
 ],
 "metadata": {
  "kernelspec": {
   "display_name": "venv",
   "language": "python",
   "name": "python3"
  },
  "language_info": {
   "codemirror_mode": {
    "name": "ipython",
    "version": 3
   },
   "file_extension": ".py",
   "mimetype": "text/x-python",
   "name": "python",
   "nbconvert_exporter": "python",
   "pygments_lexer": "ipython3",
   "version": "3.10.12"
  }
 },
 "nbformat": 4,
 "nbformat_minor": 2
}
